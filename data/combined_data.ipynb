{
 "cells": [
  {
   "cell_type": "code",
   "execution_count": 1,
   "id": "968f1cc9",
   "metadata": {},
   "outputs": [],
   "source": [
    "import pandas as pd\n",
    "from datetime import datetime\n",
    "import re\n",
    "import os"
   ]
  },
  {
   "cell_type": "markdown",
   "id": "6ee419b1",
   "metadata": {},
   "source": [
    "### ПИК"
   ]
  },
  {
   "cell_type": "code",
   "execution_count": 2,
   "id": "f1b245f6",
   "metadata": {},
   "outputs": [],
   "source": [
    "MONTHS_RU = {\n",
    "    'января': 1, 'февраля': 2, 'марта': 3, 'апреля': 4,\n",
    "    'мая': 5, 'июня': 6, 'июля': 7, 'августа': 8,\n",
    "    'сентября': 9, 'октября': 10, 'ноября': 11, 'декабря': 12\n",
    "}\n",
    "\n",
    "def parse_russian_date(date_str):\n",
    "    try:\n",
    "        day, month_ru, year = date_str.strip().split()\n",
    "        date_obj = datetime(int(year), MONTHS_RU[month_ru.lower()], int(day))\n",
    "        return date_obj.strftime('%Y-%m-%d')\n",
    "    except Exception:\n",
    "        return None\n",
    "\n",
    "df = pd.read_csv('novostroy_pik.csv')\n",
    "\n",
    "df['Date'] = df['Date'].apply(parse_russian_date)\n",
    "\n",
    "df = df[df['Review'].notna()]\n",
    "df = df[df['Review'].str.strip() != '']\n",
    "\n",
    "df['Developer'] = 'ПИК'\n",
    "\n",
    "df['Website'] = 'Novostroy-m'\n",
    "\n",
    "df.to_csv('novostroy_pik_cleaned.csv', index=False)"
   ]
  },
  {
   "cell_type": "code",
   "execution_count": 3,
   "id": "5ea63fc0",
   "metadata": {},
   "outputs": [],
   "source": [
    "df = pd.read_csv('forum-zhk_pik.csv')\n",
    "\n",
    "df['Date'] = pd.to_datetime(df['Date'], format='%d.%m.%Y %H:%M').dt.strftime('%Y-%m-%d')\n",
    "\n",
    "df = df[df['Review'].notna()]\n",
    "df = df[df['Review'].str.strip() != '']\n",
    "\n",
    "df = df[pd.to_numeric(df['Rating'], errors='coerce').notna()]\n",
    "df['Rating'] = df['Rating'].astype(float).astype(int)\n",
    "\n",
    "df['Developer'] = 'ПИК'\n",
    "\n",
    "df['Website'] = 'Forum-zhk'\n",
    "\n",
    "df.to_csv('forum-zhk_pik_cleaned.csv', index=False)"
   ]
  },
  {
   "cell_type": "code",
   "execution_count": 4,
   "id": "0938adc5",
   "metadata": {},
   "outputs": [],
   "source": [
    "df = pd.read_csv('otzovik_pik.csv')\n",
    "\n",
    "df['Date'] = pd.to_datetime(df['Date']).dt.strftime('%Y-%m-%d')\n",
    "\n",
    "df = df[df['Review'].notna()]\n",
    "df = df[df['Review'].str.strip() != '']\n",
    "\n",
    "def clean_review(text):\n",
    "    if pd.isna(text):\n",
    "        return text\n",
    "    text = re.sub(r'(?i)(достоинства:\\s*)+', '', text)\n",
    "    text = re.sub(r'(?i)(недостатки:\\s*)+', '', text)\n",
    "    return text.strip()\n",
    "\n",
    "df['Review'] = df['Review'].apply(clean_review)\n",
    "\n",
    "df['Developer'] = 'ПИК'\n",
    "\n",
    "df['Website'] = 'Otzovik'\n",
    "\n",
    "df.to_csv('otzovik_pik_cleaned.csv', index=False)"
   ]
  },
  {
   "cell_type": "code",
   "execution_count": 5,
   "id": "4a7e93a3",
   "metadata": {},
   "outputs": [],
   "source": [
    "df = pd.read_csv('novostroev_pik.csv')\n",
    "\n",
    "df['Date'] = pd.to_datetime(df['Date'], format='%d.%m.%Y %H:%M').dt.strftime('%Y-%m-%d')\n",
    "\n",
    "df = df.rename(columns={'Stars': 'Rating'})\n",
    "df = df[df['Rating'].notna()]\n",
    "df['Rating'] = df['Rating'].astype(int)\n",
    "\n",
    "df = df[df['Review'].notna()]\n",
    "df = df[df['Review'].str.strip() != '']\n",
    "\n",
    "df['Developer'] = 'ПИК'\n",
    "\n",
    "df['Website'] = 'Novostroev'\n",
    "\n",
    "df.to_csv('novostroev_pik_cleaned.csv', index=False)"
   ]
  },
  {
   "cell_type": "markdown",
   "id": "459b4f74",
   "metadata": {},
   "source": [
    "### Самолет"
   ]
  },
  {
   "cell_type": "code",
   "execution_count": 6,
   "id": "2d949752",
   "metadata": {},
   "outputs": [],
   "source": [
    "df = pd.read_csv('novostroy_samolet.csv')\n",
    "\n",
    "df = df[df['Review'].notna()]\n",
    "df = df[df['Review'].str.strip() != '']\n",
    "\n",
    "df['Developer'] = 'Самолет'\n",
    "df['Website'] = 'Novostroy-m'\n",
    "\n",
    "df.to_csv('novostroy_samolet_cleaned.csv', index=False)"
   ]
  },
  {
   "cell_type": "code",
   "execution_count": 7,
   "id": "0e7ec544",
   "metadata": {},
   "outputs": [],
   "source": [
    "df = pd.read_csv('forum-zhk_samolet.csv')\n",
    "\n",
    "df['Date'] = pd.to_datetime(df['Date'], format='%d.%m.%Y %H:%M').dt.strftime('%Y-%m-%d')\n",
    "\n",
    "df = df[df['Review'].notna()]\n",
    "df = df[df['Review'].str.strip() != '']\n",
    "\n",
    "df = df[~df['Review'].str.contains('Siteinfo:', case=False, na=False)]\n",
    "\n",
    "df = df[df['Rating'].notna()]\n",
    "\n",
    "df['Rating'] = df['Rating'].astype(float).astype(int)\n",
    "\n",
    "df['Developer'] = 'Самолет'\n",
    "df['Website'] = 'Forum-zhk'\n",
    "\n",
    "df.to_csv('forum-zhk_samolet_cleaned.csv', index=False)"
   ]
  },
  {
   "cell_type": "code",
   "execution_count": 8,
   "id": "a81b1285",
   "metadata": {},
   "outputs": [],
   "source": [
    "df = pd.read_csv('otzovik_samolet.csv')\n",
    "\n",
    "df['Date'] = pd.to_datetime(df['Date']).dt.strftime('%Y-%m-%d')\n",
    "\n",
    "df = df[df['Review'].notna()]\n",
    "df = df[df['Review'].str.strip() != '']\n",
    "\n",
    "def clean_review(text):\n",
    "    if pd.isna(text):\n",
    "        return text\n",
    "    text = re.sub(r'(?i)(достоинства:\\s*)+', '', text)\n",
    "    text = re.sub(r'(?i)(недостатки:\\s*)+', '', text)\n",
    "    return text.strip()\n",
    "\n",
    "df['Review'] = df['Review'].apply(clean_review)\n",
    "\n",
    "df['Developer'] = 'Самолет'\n",
    "\n",
    "df['Website'] = 'Otzovik'\n",
    "\n",
    "df.to_csv('otzovik_samolet_cleaned.csv', index=False)"
   ]
  },
  {
   "cell_type": "code",
   "execution_count": 9,
   "id": "d315fb82",
   "metadata": {},
   "outputs": [],
   "source": [
    "df = pd.read_csv('novostroev_samolet.csv')\n",
    "\n",
    "df['Date'] = pd.to_datetime(df['Date'], format='%d.%m.%Y %H:%M').dt.strftime('%Y-%m-%d')\n",
    "\n",
    "df = df.rename(columns={'Stars': 'Rating'})\n",
    "df = df[df['Rating'].notna()]\n",
    "df['Rating'] = df['Rating'].astype(int)\n",
    "\n",
    "df = df[df['Review'].notna()]\n",
    "df = df[df['Review'].str.strip() != '']\n",
    "\n",
    "df['Developer'] = 'Самолет'\n",
    "\n",
    "df['Website'] = 'Novostroev'\n",
    "\n",
    "df.to_csv('novostroev_samolet_cleaned.csv', index=False)"
   ]
  },
  {
   "cell_type": "markdown",
   "id": "99e713dd",
   "metadata": {},
   "source": [
    "### А101"
   ]
  },
  {
   "cell_type": "code",
   "execution_count": 10,
   "id": "3c98c190",
   "metadata": {},
   "outputs": [],
   "source": [
    "df = pd.read_csv('novostroy_a101.csv')\n",
    "\n",
    "df = df[df['Review'].notna()]\n",
    "df = df[df['Review'].str.strip() != '']\n",
    "\n",
    "df['Developer'] = 'А101'\n",
    "df['Website'] = 'Novostroy-m'\n",
    "\n",
    "df.to_csv('novostroy_a101_cleaned.csv', index=False)"
   ]
  },
  {
   "cell_type": "code",
   "execution_count": 11,
   "id": "283c71be",
   "metadata": {},
   "outputs": [],
   "source": [
    "df = pd.read_csv('forum-zhk_a101.csv')\n",
    "\n",
    "df['Date'] = pd.to_datetime(df['Date'], format='%d.%m.%Y %H:%M').dt.strftime('%Y-%m-%d')\n",
    "\n",
    "df = df[df['Review'].notna()]\n",
    "df = df[df['Review'].str.strip() != '']\n",
    "\n",
    "df = df[df['Rating'].notna()]\n",
    "\n",
    "df['Rating'] = df['Rating'].astype(float).astype(int)\n",
    "\n",
    "df['Developer'] = 'А101'\n",
    "df['Website'] = 'Forum-zhk'\n",
    "\n",
    "df.to_csv('forum-zhk_a101_cleaned.csv', index=False)"
   ]
  },
  {
   "cell_type": "code",
   "execution_count": 12,
   "id": "6ecf3106",
   "metadata": {},
   "outputs": [],
   "source": [
    "df = pd.read_csv('otzovik_a101.csv')\n",
    "\n",
    "df['Date'] = pd.to_datetime(df['Date']).dt.strftime('%Y-%m-%d')\n",
    "\n",
    "df = df[df['Review'].notna()]\n",
    "df = df[df['Review'].str.strip() != '']\n",
    "\n",
    "def clean_review(text):\n",
    "    if pd.isna(text):\n",
    "        return text\n",
    "    text = re.sub(r'(?i)(достоинства:\\s*)+', '', text)\n",
    "    text = re.sub(r'(?i)(недостатки:\\s*)+', '', text)\n",
    "    return text.strip()\n",
    "\n",
    "df['Review'] = df['Review'].apply(clean_review)\n",
    "\n",
    "df['Developer'] = 'А101'\n",
    "\n",
    "df['Website'] = 'Otzovik'\n",
    "\n",
    "df.to_csv('otzovik_a101_cleaned.csv', index=False)"
   ]
  },
  {
   "cell_type": "code",
   "execution_count": 13,
   "id": "bf2d31ba",
   "metadata": {},
   "outputs": [],
   "source": [
    "df = pd.read_csv('novostroev_a101.csv')\n",
    "\n",
    "df['Date'] = pd.to_datetime(df['Date'], format='%d.%m.%Y %H:%M').dt.strftime('%Y-%m-%d')\n",
    "\n",
    "df = df.rename(columns={'Stars': 'Rating'})\n",
    "df = df[df['Rating'].notna()]\n",
    "df['Rating'] = df['Rating'].astype(int)\n",
    "\n",
    "df = df[df['Review'].notna()]\n",
    "df = df[df['Review'].str.strip() != '']\n",
    "\n",
    "df['Developer'] = 'А101'\n",
    "\n",
    "df['Website'] = 'Novostroev'\n",
    "\n",
    "df.to_csv('novostroev_a101_cleaned.csv', index=False)"
   ]
  },
  {
   "cell_type": "markdown",
   "id": "429e6f03",
   "metadata": {},
   "source": [
    "### MR Group"
   ]
  },
  {
   "cell_type": "code",
   "execution_count": 14,
   "id": "00b6ede6",
   "metadata": {},
   "outputs": [],
   "source": [
    "df = pd.read_csv('novostroy_mr_group.csv')\n",
    "\n",
    "df = df[df['Review'].notna()]\n",
    "df = df[df['Review'].str.strip() != '']\n",
    "\n",
    "df['Developer'] = 'MR Group'\n",
    "df['Website'] = 'Novostroy-m'\n",
    "\n",
    "df.to_csv('novostroy_mr_group_cleaned.csv', index=False)"
   ]
  },
  {
   "cell_type": "code",
   "execution_count": 15,
   "id": "30612487",
   "metadata": {},
   "outputs": [],
   "source": [
    "df = pd.read_csv('forum-zhk_mr_group.csv')\n",
    "\n",
    "df['Date'] = pd.to_datetime(df['Date'], format='%d.%m.%Y %H:%M').dt.strftime('%Y-%m-%d')\n",
    "\n",
    "df = df[df['Review'].notna()]\n",
    "df = df[df['Review'].str.strip() != '']\n",
    "\n",
    "df = df[df['Rating'].notna()]\n",
    "\n",
    "df['Rating'] = df['Rating'].astype(float).astype(int)\n",
    "\n",
    "df['Developer'] = 'MR Group'\n",
    "df['Website'] = 'Forum-zhk'\n",
    "\n",
    "df.to_csv('forum-zhk_mr_group_cleaned.csv', index=False)"
   ]
  },
  {
   "cell_type": "code",
   "execution_count": 16,
   "id": "e9c13008",
   "metadata": {},
   "outputs": [],
   "source": [
    "df = pd.read_csv('otzovik_mr_group.csv')\n",
    "\n",
    "df['Date'] = pd.to_datetime(df['Date']).dt.strftime('%Y-%m-%d')\n",
    "\n",
    "df = df[df['Review'].notna()]\n",
    "df = df[df['Review'].str.strip() != '']\n",
    "\n",
    "def clean_review(text):\n",
    "    if pd.isna(text):\n",
    "        return text\n",
    "    text = re.sub(r'(?i)(достоинства:\\s*)+', '', text)\n",
    "    text = re.sub(r'(?i)(недостатки:\\s*)+', '', text)\n",
    "    return text.strip()\n",
    "\n",
    "df['Review'] = df['Review'].apply(clean_review)\n",
    "\n",
    "df['Developer'] = 'MR Group'\n",
    "\n",
    "df['Website'] = 'Otzovik'\n",
    "\n",
    "df.to_csv('otzovik_mr_group_cleaned.csv', index=False)"
   ]
  },
  {
   "cell_type": "code",
   "execution_count": 17,
   "id": "28d9f9cc",
   "metadata": {},
   "outputs": [],
   "source": [
    "df = pd.read_csv('novostroev_mr_group.csv')\n",
    "\n",
    "df['Date'] = pd.to_datetime(df['Date'], format='%d.%m.%Y %H:%M').dt.strftime('%Y-%m-%d')\n",
    "\n",
    "df = df.rename(columns={'Stars': 'Rating'})\n",
    "df = df[df['Rating'].notna()]\n",
    "df['Rating'] = df['Rating'].astype(int)\n",
    "\n",
    "df = df[df['Review'].notna()]\n",
    "df = df[df['Review'].str.strip() != '']\n",
    "\n",
    "df['Developer'] = 'MR Group'\n",
    "\n",
    "df['Website'] = 'Novostroev'\n",
    "\n",
    "df.to_csv('novostroev_mr_group_cleaned.csv', index=False)"
   ]
  },
  {
   "cell_type": "markdown",
   "id": "d40767a0",
   "metadata": {},
   "source": [
    "### Донстрой"
   ]
  },
  {
   "cell_type": "code",
   "execution_count": 18,
   "id": "920c9b9a",
   "metadata": {},
   "outputs": [],
   "source": [
    "df = pd.read_csv('novostroy_donstroy.csv')\n",
    "\n",
    "df = df[df['Review'].notna()]\n",
    "df = df[df['Review'].str.strip() != '']\n",
    "\n",
    "df['Developer'] = 'Донстрой'\n",
    "df['Website'] = 'Novostroy-m'\n",
    "\n",
    "df.to_csv('novostroy_donstroy_cleaned.csv', index=False)"
   ]
  },
  {
   "cell_type": "code",
   "execution_count": 19,
   "id": "6c322418",
   "metadata": {},
   "outputs": [],
   "source": [
    "df = pd.read_csv('forum-zhk_donstroy.csv')\n",
    "\n",
    "df['Date'] = pd.to_datetime(df['Date'], format='%d.%m.%Y %H:%M').dt.strftime('%Y-%m-%d')\n",
    "\n",
    "df = df[df['Review'].notna()]\n",
    "df = df[df['Review'].str.strip() != '']\n",
    "\n",
    "df = df[df['Rating'].notna()]\n",
    "\n",
    "df['Rating'] = df['Rating'].astype(float).astype(int)\n",
    "\n",
    "df['Developer'] = 'Донстрой'\n",
    "df['Website'] = 'Forum-zhk'\n",
    "\n",
    "df.to_csv('forum-zhk_donstroy_cleaned.csv', index=False)"
   ]
  },
  {
   "cell_type": "code",
   "execution_count": 20,
   "id": "76f26c6a",
   "metadata": {},
   "outputs": [],
   "source": [
    "df = pd.read_csv('otzovik_donstroy.csv')\n",
    "\n",
    "df['Date'] = pd.to_datetime(df['Date']).dt.strftime('%Y-%m-%d')\n",
    "\n",
    "df = df[df['Review'].notna()]\n",
    "df = df[df['Review'].str.strip() != '']\n",
    "\n",
    "def clean_review(text):\n",
    "    if pd.isna(text):\n",
    "        return text\n",
    "    text = re.sub(r'(?i)(достоинства:\\s*)+', '', text)\n",
    "    text = re.sub(r'(?i)(недостатки:\\s*)+', '', text)\n",
    "    return text.strip()\n",
    "\n",
    "df['Review'] = df['Review'].apply(clean_review)\n",
    "\n",
    "df['Developer'] = 'Донстрой'\n",
    "\n",
    "df['Website'] = 'Otzovik'\n",
    "\n",
    "df.to_csv('otzovik_donstroy_cleaned.csv', index=False)"
   ]
  },
  {
   "cell_type": "code",
   "execution_count": 21,
   "id": "ee32af10",
   "metadata": {},
   "outputs": [],
   "source": [
    "df = pd.read_csv('novostroev_donstroy.csv')\n",
    "\n",
    "df['Date'] = pd.to_datetime(df['Date'], format='%d.%m.%Y %H:%M').dt.strftime('%Y-%m-%d')\n",
    "\n",
    "df = df.rename(columns={'Stars': 'Rating'})\n",
    "df = df[df['Rating'].notna()]\n",
    "df['Rating'] = df['Rating'].astype(int)\n",
    "\n",
    "df = df[df['Review'].notna()]\n",
    "df = df[df['Review'].str.strip() != '']\n",
    "\n",
    "df['Developer'] = 'Донстрой'\n",
    "\n",
    "df['Website'] = 'Novostroev'\n",
    "\n",
    "df.to_csv('novostroev_donstroy_cleaned.csv', index=False)"
   ]
  },
  {
   "cell_type": "code",
   "execution_count": 22,
   "id": "199ce324",
   "metadata": {},
   "outputs": [],
   "source": [
    "filenames = [\n",
    "    'novostroy_pik_cleaned.csv',\n",
    "    'forum-zhk_pik_cleaned.csv',\n",
    "    'otzovik_pik_cleaned.csv',\n",
    "    'novostroev_pik_cleaned.csv',\n",
    "    'novostroy_samolet_cleaned.csv',\n",
    "    'forum-zhk_samolet_cleaned.csv',\n",
    "    'otzovik_samolet_cleaned.csv',\n",
    "    'novostroev_samolet_cleaned.csv',\n",
    "    'novostroy_a101_cleaned.csv',\n",
    "    'forum-zhk_a101_cleaned.csv',\n",
    "    'otzovik_a101_cleaned.csv',\n",
    "    'novostroev_a101_cleaned.csv',\n",
    "    'novostroy_mr_group_cleaned.csv',\n",
    "    'forum-zhk_mr_group_cleaned.csv',\n",
    "    'otzovik_mr_group_cleaned.csv',\n",
    "    'novostroev_mr_group_cleaned.csv',\n",
    "    'novostroy_donstroy_cleaned.csv',\n",
    "    'forum-zhk_donstroy_cleaned.csv',\n",
    "    'otzovik_donstroy_cleaned.csv',\n",
    "    'novostroev_donstroy_cleaned.csv'\n",
    "]\n",
    "\n",
    "all_data = pd.concat([pd.read_csv(fname) for fname in filenames], ignore_index=True)\n",
    "\n",
    "all_data['Sentiment'] = ''\n",
    "\n",
    "all_data.to_csv('data_with_sentiment.csv', index=False)"
   ]
  },
  {
   "cell_type": "code",
   "execution_count": 23,
   "id": "2b2d7e24",
   "metadata": {},
   "outputs": [],
   "source": [
    "df = pd.read_csv('data_with_sentiment.csv')\n",
    "\n",
    "df.to_excel('data_with_sentiment.xlsx', index=False)"
   ]
  },
  {
   "cell_type": "code",
   "execution_count": null,
   "id": "b0c9ae70",
   "metadata": {},
   "outputs": [],
   "source": []
  }
 ],
 "metadata": {
  "kernelspec": {
   "display_name": "venv",
   "language": "python",
   "name": "python3"
  },
  "language_info": {
   "codemirror_mode": {
    "name": "ipython",
    "version": 3
   },
   "file_extension": ".py",
   "mimetype": "text/x-python",
   "name": "python",
   "nbconvert_exporter": "python",
   "pygments_lexer": "ipython3",
   "version": "3.9.6"
  }
 },
 "nbformat": 4,
 "nbformat_minor": 5
}

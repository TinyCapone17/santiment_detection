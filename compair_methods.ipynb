{
 "cells": [
  {
   "cell_type": "code",
   "execution_count": 10,
   "metadata": {},
   "outputs": [],
   "source": [
    "# !pip install -U scikit-learn"
   ]
  },
  {
   "cell_type": "code",
   "execution_count": 1,
   "metadata": {},
   "outputs": [],
   "source": [
    "import pandas as pd\n",
    "import matplotlib.pyplot as plt\n",
    "import seaborn as sns\n",
    "from sklearn.metrics import accuracy_score, confusion_matrix, classification_report"
   ]
  },
  {
   "cell_type": "markdown",
   "metadata": {},
   "source": [
    "### RUBERT"
   ]
  },
  {
   "cell_type": "code",
   "execution_count": 2,
   "metadata": {},
   "outputs": [],
   "source": [
    "df = pd.read_csv(\"rubert_collected_data_with_sentiment.csv\", index_col=0)"
   ]
  },
  {
   "cell_type": "code",
   "execution_count": 3,
   "metadata": {},
   "outputs": [
    {
     "data": {
      "text/html": [
       "<div>\n",
       "<style scoped>\n",
       "    .dataframe tbody tr th:only-of-type {\n",
       "        vertical-align: middle;\n",
       "    }\n",
       "\n",
       "    .dataframe tbody tr th {\n",
       "        vertical-align: top;\n",
       "    }\n",
       "\n",
       "    .dataframe thead th {\n",
       "        text-align: right;\n",
       "    }\n",
       "</style>\n",
       "<table border=\"1\" class=\"dataframe\">\n",
       "  <thead>\n",
       "    <tr style=\"text-align: right;\">\n",
       "      <th></th>\n",
       "      <th>Name</th>\n",
       "      <th>Date</th>\n",
       "      <th>Review</th>\n",
       "      <th>Rating</th>\n",
       "      <th>Developer</th>\n",
       "      <th>Site</th>\n",
       "      <th>True_santiment</th>\n",
       "      <th>Sentiment</th>\n",
       "    </tr>\n",
       "  </thead>\n",
       "  <tbody>\n",
       "    <tr>\n",
       "      <th>0</th>\n",
       "      <td>Никита</td>\n",
       "      <td>2025-02-28</td>\n",
       "      <td>Мы живем в арендованной квартире 8 лет. Вернее...</td>\n",
       "      <td>5.0</td>\n",
       "      <td>samolet</td>\n",
       "      <td>novostroy</td>\n",
       "      <td>1</td>\n",
       "      <td>positive</td>\n",
       "    </tr>\n",
       "    <tr>\n",
       "      <th>1</th>\n",
       "      <td>Галина</td>\n",
       "      <td>2025-02-26</td>\n",
       "      <td>При покупке студии в Молжаниново была завышена...</td>\n",
       "      <td>1.0</td>\n",
       "      <td>samolet</td>\n",
       "      <td>novostroy</td>\n",
       "      <td>-1</td>\n",
       "      <td>negative</td>\n",
       "    </tr>\n",
       "    <tr>\n",
       "      <th>2</th>\n",
       "      <td>Наталья</td>\n",
       "      <td>2025-02-19</td>\n",
       "      <td>Удачно переехали в Горки парк, сейчас вот ждем...</td>\n",
       "      <td>5.0</td>\n",
       "      <td>samolet</td>\n",
       "      <td>novostroy</td>\n",
       "      <td>1</td>\n",
       "      <td>positive</td>\n",
       "    </tr>\n",
       "    <tr>\n",
       "      <th>3</th>\n",
       "      <td>Валентина Гвоздилова</td>\n",
       "      <td>2025-02-14</td>\n",
       "      <td>Живем с мужем и сыном в ЖК Большое Путилково у...</td>\n",
       "      <td>5.0</td>\n",
       "      <td>samolet</td>\n",
       "      <td>novostroy</td>\n",
       "      <td>1</td>\n",
       "      <td>positive</td>\n",
       "    </tr>\n",
       "    <tr>\n",
       "      <th>4</th>\n",
       "      <td>Дмитрий Усачин</td>\n",
       "      <td>2025-02-08</td>\n",
       "      <td>Мне комфортно в Новом Внукове от Самолёта. Дом...</td>\n",
       "      <td>5.0</td>\n",
       "      <td>samolet</td>\n",
       "      <td>novostroy</td>\n",
       "      <td>1</td>\n",
       "      <td>positive</td>\n",
       "    </tr>\n",
       "    <tr>\n",
       "      <th>...</th>\n",
       "      <td>...</td>\n",
       "      <td>...</td>\n",
       "      <td>...</td>\n",
       "      <td>...</td>\n",
       "      <td>...</td>\n",
       "      <td>...</td>\n",
       "      <td>...</td>\n",
       "      <td>...</td>\n",
       "    </tr>\n",
       "    <tr>\n",
       "      <th>1846</th>\n",
       "      <td>Елена197967</td>\n",
       "      <td>2018-06-25</td>\n",
       "      <td>Купили квартиру и очень пожалели. 1. Гранель н...</td>\n",
       "      <td>1.0</td>\n",
       "      <td>granel</td>\n",
       "      <td>otzovik</td>\n",
       "      <td>-1</td>\n",
       "      <td>negative</td>\n",
       "    </tr>\n",
       "    <tr>\n",
       "      <th>1847</th>\n",
       "      <td>Алексей Ильичёв</td>\n",
       "      <td>2019-02-18</td>\n",
       "      <td>Ночь 3.51 жена говорит у нас крыша взлетает) К...</td>\n",
       "      <td>1.0</td>\n",
       "      <td>granel</td>\n",
       "      <td>otzovik</td>\n",
       "      <td>0</td>\n",
       "      <td>negative</td>\n",
       "    </tr>\n",
       "    <tr>\n",
       "      <th>1848</th>\n",
       "      <td>Елена7779898</td>\n",
       "      <td>2018-04-11</td>\n",
       "      <td>Решила купить квартиру и сразу начались пробле...</td>\n",
       "      <td>1.0</td>\n",
       "      <td>granel</td>\n",
       "      <td>otzovik</td>\n",
       "      <td>-1</td>\n",
       "      <td>neutral</td>\n",
       "    </tr>\n",
       "    <tr>\n",
       "      <th>1849</th>\n",
       "      <td>polinavoda</td>\n",
       "      <td>2019-11-06</td>\n",
       "      <td>Брали квартиру без отделки, поэтому, конечно, ...</td>\n",
       "      <td>5.0</td>\n",
       "      <td>granel</td>\n",
       "      <td>otzovik</td>\n",
       "      <td>1</td>\n",
       "      <td>positive</td>\n",
       "    </tr>\n",
       "    <tr>\n",
       "      <th>1850</th>\n",
       "      <td>mamadjonova54321</td>\n",
       "      <td>2021-01-16</td>\n",
       "      <td>С отделкой не стоит покупать. Очень много жало...</td>\n",
       "      <td>1.0</td>\n",
       "      <td>granel</td>\n",
       "      <td>otzovik</td>\n",
       "      <td>-1</td>\n",
       "      <td>negative</td>\n",
       "    </tr>\n",
       "  </tbody>\n",
       "</table>\n",
       "<p>1851 rows × 8 columns</p>\n",
       "</div>"
      ],
      "text/plain": [
       "                      Name        Date  \\\n",
       "0                   Никита  2025-02-28   \n",
       "1                   Галина  2025-02-26   \n",
       "2                  Наталья  2025-02-19   \n",
       "3     Валентина Гвоздилова  2025-02-14   \n",
       "4           Дмитрий Усачин  2025-02-08   \n",
       "...                    ...         ...   \n",
       "1846           Елена197967  2018-06-25   \n",
       "1847       Алексей Ильичёв  2019-02-18   \n",
       "1848          Елена7779898  2018-04-11   \n",
       "1849            polinavoda  2019-11-06   \n",
       "1850      mamadjonova54321  2021-01-16   \n",
       "\n",
       "                                                 Review  Rating Developer  \\\n",
       "0     Мы живем в арендованной квартире 8 лет. Вернее...     5.0   samolet   \n",
       "1     При покупке студии в Молжаниново была завышена...     1.0   samolet   \n",
       "2     Удачно переехали в Горки парк, сейчас вот ждем...     5.0   samolet   \n",
       "3     Живем с мужем и сыном в ЖК Большое Путилково у...     5.0   samolet   \n",
       "4     Мне комфортно в Новом Внукове от Самолёта. Дом...     5.0   samolet   \n",
       "...                                                 ...     ...       ...   \n",
       "1846  Купили квартиру и очень пожалели. 1. Гранель н...     1.0    granel   \n",
       "1847  Ночь 3.51 жена говорит у нас крыша взлетает) К...     1.0    granel   \n",
       "1848  Решила купить квартиру и сразу начались пробле...     1.0    granel   \n",
       "1849  Брали квартиру без отделки, поэтому, конечно, ...     5.0    granel   \n",
       "1850  С отделкой не стоит покупать. Очень много жало...     1.0    granel   \n",
       "\n",
       "           Site  True_santiment Sentiment  \n",
       "0     novostroy               1  positive  \n",
       "1     novostroy              -1  negative  \n",
       "2     novostroy               1  positive  \n",
       "3     novostroy               1  positive  \n",
       "4     novostroy               1  positive  \n",
       "...         ...             ...       ...  \n",
       "1846    otzovik              -1  negative  \n",
       "1847    otzovik               0  negative  \n",
       "1848    otzovik              -1   neutral  \n",
       "1849    otzovik               1  positive  \n",
       "1850    otzovik              -1  negative  \n",
       "\n",
       "[1851 rows x 8 columns]"
      ]
     },
     "execution_count": 3,
     "metadata": {},
     "output_type": "execute_result"
    }
   ],
   "source": [
    "df"
   ]
  },
  {
   "cell_type": "code",
   "execution_count": 4,
   "metadata": {},
   "outputs": [
    {
     "data": {
      "text/plain": [
       "True_santiment\n",
       " 1    848\n",
       "-1    692\n",
       " 0    311\n",
       "Name: count, dtype: int64"
      ]
     },
     "execution_count": 4,
     "metadata": {},
     "output_type": "execute_result"
    }
   ],
   "source": [
    "df[\"True_santiment\"].value_counts()"
   ]
  },
  {
   "cell_type": "code",
   "execution_count": 5,
   "metadata": {},
   "outputs": [
    {
     "data": {
      "text/plain": [
       "Sentiment\n",
       "positive    673\n",
       "neutral     609\n",
       "negative    569\n",
       "Name: count, dtype: int64"
      ]
     },
     "execution_count": 5,
     "metadata": {},
     "output_type": "execute_result"
    }
   ],
   "source": [
    "df[\"Sentiment\"].value_counts()"
   ]
  },
  {
   "cell_type": "code",
   "execution_count": 39,
   "metadata": {},
   "outputs": [],
   "source": [
    "# Преобразуем предсказанные значения в числовой формат\n",
    "sentiment_mapping = {\"positive\": 1, \"neutral\": 0, \"negative\": -1}\n",
    "df[\"Predicted_santiment\"] = df[\"Sentiment\"].map(sentiment_mapping)"
   ]
  },
  {
   "cell_type": "code",
   "execution_count": 40,
   "metadata": {},
   "outputs": [
    {
     "name": "stdout",
     "output_type": "stream",
     "text": [
      "Accuracy: 0.60\n"
     ]
    }
   ],
   "source": [
    "# Посчитаем accuracy\n",
    "accuracy = accuracy_score(df[\"True_santiment\"], df[\"Predicted_santiment\"])\n",
    "print(f\"Accuracy: {accuracy:.2f}\")\n"
   ]
  },
  {
   "cell_type": "code",
   "execution_count": 41,
   "metadata": {},
   "outputs": [],
   "source": [
    "# Построим confusion matrix\n",
    "conf_matrix = confusion_matrix(df[\"True_santiment\"], df[\"Predicted_santiment\"])"
   ]
  },
  {
   "cell_type": "code",
   "execution_count": 42,
   "metadata": {},
   "outputs": [
    {
     "data": {
      "image/png": "[encoded data removed]",
      "text/plain": [
       "<Figure size 600x500 with 2 Axes>"
      ]
     },
     "metadata": {},
     "output_type": "display_data"
    }
   ],
   "source": [
    "# Визуализация confusion matrix\n",
    "plt.figure(figsize=(6, 5))\n",
    "sns.heatmap(conf_matrix, annot=True, fmt=\"d\", cmap=\"Blues\", xticklabels=[\"Negative\", \"Neutral\", \"Positive\"], yticklabels=[\"Negative\", \"Neutral\", \"Positive\"])\n",
    "plt.xlabel(\"Predicted Label\")\n",
    "plt.ylabel(\"True Label\")\n",
    "plt.title(\"Confusion Matrix\")\n",
    "plt.show()"
   ]
  },
  {
   "cell_type": "markdown",
   "metadata": {},
   "source": [
    "Модель в целом хорошо классифицирует Negative и Positive, но очень плохо классифицирует Neutral.\n",
    "\n",
    "    - Особенно большая проблема с классом Neutral (много ошибок).\n",
    "    \n",
    "    - Вероятно, нейтральные отзывы содержат слова, которые схожи с негативными или позитивными.\n",
    "\n",
    "\n",
    "\n",
    "- Модель в целом работает, но очень плохо выделяет нейтральные отзывы – вероятно, потому что они пересекаются по смыслу с негативными и позитивными."
   ]
  },
  {
   "cell_type": "code",
   "execution_count": 43,
   "metadata": {},
   "outputs": [],
   "source": [
    "# Создадим DataFrame с правильными и неправильными предсказаниями\n",
    "df[\"Correct\"] = df[\"True_santiment\"] == df[\"Predicted_santiment\"]\n",
    "correct_counts = df[\"Correct\"].value_counts()\n"
   ]
  },
  {
   "cell_type": "code",
   "execution_count": 44,
   "metadata": {},
   "outputs": [
    {
     "name": "stderr",
     "output_type": "stream",
     "text": [
      "/var/folders/43/rsc11w1d66s1zp7j_p4qkq600000gn/T/ipykernel_99181/512351401.py:3: FutureWarning: \n",
      "\n",
      "Passing `palette` without assigning `hue` is deprecated and will be removed in v0.14.0. Assign the `x` variable to `hue` and set `legend=False` for the same effect.\n",
      "\n",
      "  sns.barplot(x=correct_counts.index.astype(str), y=correct_counts.values, palette=\"viridis\")\n"
     ]
    },
    {
     "data": {
      "image/png": "[encoded data removed]",
      "text/plain": [
       "<Figure size 500x500 with 1 Axes>"
      ]
     },
     "metadata": {},
     "output_type": "display_data"
    }
   ],
   "source": [
    "\n",
    "\n",
    "# График правильных/неправильных предсказаний\n",
    "plt.figure(figsize=(5, 5))\n",
    "sns.barplot(x=correct_counts.index.astype(str), y=correct_counts.values, palette=\"viridis\")\n",
    "plt.xlabel(\"Correct Prediction\")\n",
    "plt.ylabel(\"Count\")\n",
    "plt.title(\"Correct vs Incorrect Predictions\")\n",
    "plt.show()"
   ]
  },
  {
   "cell_type": "code",
   "execution_count": 45,
   "metadata": {},
   "outputs": [
    {
     "name": "stdout",
     "output_type": "stream",
     "text": [
      "Classification Report:\n",
      "               precision    recall  f1-score   support\n",
      "\n",
      "          -1       0.80      0.66      0.72       692\n",
      "           0       0.22      0.43      0.29       311\n",
      "           1       0.78      0.62      0.69       848\n",
      "\n",
      "    accuracy                           0.60      1851\n",
      "   macro avg       0.60      0.57      0.57      1851\n",
      "weighted avg       0.69      0.60      0.63      1851\n",
      "\n"
     ]
    }
   ],
   "source": [
    "# Выведем классификационный отчет\n",
    "print(\"Classification Report:\\n\", classification_report(df[\"True_santiment\"], df[\"Predicted_santiment\"]))\n"
   ]
  },
  {
   "cell_type": "markdown",
   "metadata": {},
   "source": [
    "- Класс -1 (отрицательный)\n",
    "\n",
    "- Класс 0 (нейтральный)\n",
    "\n",
    "- Класс 1 (положительный)\n",
    "\n",
    "Разберем метрики:\n",
    "\n",
    "    1. Precision (Точность): Доля правильно предсказанных примеров данного класса среди всех, которым модель присвоила этот класс.\n",
    "\n",
    "        Для класса -1: 0.80 (80% предсказаний, сделанных как -1, оказались верными).\n",
    "\n",
    "        Для класса 0: 0.22 (очень низкая точность, модель часто ошибается при предсказании 0).\n",
    "\n",
    "        Для класса 1: 0.78 (78% предсказаний 1 были верными).\n",
    "\n",
    "    Recall (Полнота): Доля правильно предсказанных примеров данного класса среди всех фактических примеров этого класса.\n",
    "\n",
    "        Для класса -1: 0.66 (только 66% реальных -1 были правильно предсказаны).\n",
    "\n",
    "        Для класса 0: 0.43 (модель находит только 43% примеров 0, плохо выделяет нейтральные отзывы).\n",
    "\n",
    "        Для класса 1: 0.62 (62% реальных 1 были правильно определены).\n",
    "\n",
    "    F1-score: Среднее гармоническое между precision и recall.\n",
    "\n",
    "        Для класса -1: 0.72 (достаточно сбалансирован).\n",
    "\n",
    "        Для класса 0: 0.29 (очень слабый, модель не справляется с нейтральными отзывами).\n",
    "\n",
    "        Для класса 1: 0.69 (в целом, неплохо).\n",
    "\n",
    "    Accuracy (Общая точность): 0.60 (то есть 60% всех предсказаний были верными).\n",
    "\n",
    "    Macro average (среднее арифметическое по классам):\n",
    "\n",
    "        Precision: 0.60\n",
    "\n",
    "        Recall: 0.57\n",
    "        F1-score: 0.57\n",
    "\n",
    "        Учитывает все классы одинаково, поэтому сильно страдает из-за плохого качества для класса 0.\n",
    "\n",
    "    Weighted average (взвешенное среднее по классам):\n",
    "\n",
    "        Precision: 0.69\n",
    "\n",
    "        Recall: 0.60\n",
    "\n",
    "        F1-score: 0.63\n",
    "\n",
    "        Взвешенное среднее учитывает количество примеров в каждом классе (самый частый класс вносит больший вклад).\n",
    "\n",
    "\n",
    "\n",
    "\n",
    "- Модель лучше всего предсказывает классы -1 (негативные) и 1 (позитивные), но плохо справляется с классом 0 (нейтральные отзывы).\n",
    "\n",
    "- Precision и recall для класса 0 очень низкие, что говорит о том, что модель либо путает нейтральные отзывы с позитивными/негативными, либо просто плохо выделяет их признаки."
   ]
  },
  {
   "cell_type": "code",
   "execution_count": null,
   "metadata": {},
   "outputs": [],
   "source": []
  },
  {
   "cell_type": "code",
   "execution_count": null,
   "metadata": {},
   "outputs": [],
   "source": []
  },
  {
   "cell_type": "code",
   "execution_count": null,
   "metadata": {},
   "outputs": [],
   "source": []
  },
  {
   "cell_type": "code",
   "execution_count": null,
   "metadata": {},
   "outputs": [],
   "source": []
  }
 ],
 "metadata": {
  "kernelspec": {
   "display_name": "venv",
   "language": "python",
   "name": "python3"
  },
  "language_info": {
   "codemirror_mode": {
    "name": "ipython",
    "version": 3
   },
   "file_extension": ".py",
   "mimetype": "text/x-python",
   "name": "python",
   "nbconvert_exporter": "python",
   "pygments_lexer": "ipython3",
   "version": "3.10.16"
  }
 },
 "nbformat": 4,
 "nbformat_minor": 2
}
